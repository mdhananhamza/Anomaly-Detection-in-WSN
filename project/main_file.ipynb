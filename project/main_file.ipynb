{
 "cells": [
  {
   "cell_type": "code",
   "execution_count": 1,
   "id": "bca364fd",
   "metadata": {},
   "outputs": [
    {
     "data": {
      "text/html": [
       "<div>\n",
       "<style scoped>\n",
       "    .dataframe tbody tr th:only-of-type {\n",
       "        vertical-align: middle;\n",
       "    }\n",
       "\n",
       "    .dataframe tbody tr th {\n",
       "        vertical-align: top;\n",
       "    }\n",
       "\n",
       "    .dataframe thead th {\n",
       "        text-align: right;\n",
       "    }\n",
       "</style>\n",
       "<table border=\"1\" class=\"dataframe\">\n",
       "  <thead>\n",
       "    <tr style=\"text-align: right;\">\n",
       "      <th></th>\n",
       "      <th>Time_stamp</th>\n",
       "      <th>CAN_ID</th>\n",
       "      <th>DLC</th>\n",
       "      <th>PAY_LOAD</th>\n",
       "      <th>CLASS</th>\n",
       "    </tr>\n",
       "  </thead>\n",
       "  <tbody>\n",
       "    <tr>\n",
       "      <th>0</th>\n",
       "      <td>1513921815</td>\n",
       "      <td>165</td>\n",
       "      <td>8</td>\n",
       "      <td>08 E8 7F 00 00 00 01 9E</td>\n",
       "      <td>R</td>\n",
       "    </tr>\n",
       "    <tr>\n",
       "      <th>1</th>\n",
       "      <td>1513921815</td>\n",
       "      <td>018F</td>\n",
       "      <td>8</td>\n",
       "      <td>00 2B 1F 00 00 3F 00 00</td>\n",
       "      <td>R</td>\n",
       "    </tr>\n",
       "    <tr>\n",
       "      <th>2</th>\n",
       "      <td>1513921815</td>\n",
       "      <td>260</td>\n",
       "      <td>8</td>\n",
       "      <td>05 1F 00 30 FF 8F 65 17</td>\n",
       "      <td>R</td>\n",
       "    </tr>\n",
       "    <tr>\n",
       "      <th>3</th>\n",
       "      <td>1513921815</td>\n",
       "      <td>02A0</td>\n",
       "      <td>8</td>\n",
       "      <td>A2 00 69 90 E8 0F 33 03</td>\n",
       "      <td>R</td>\n",
       "    </tr>\n",
       "    <tr>\n",
       "      <th>4</th>\n",
       "      <td>1513921815</td>\n",
       "      <td>02B0</td>\n",
       "      <td>5</td>\n",
       "      <td>00 00 00 07 61</td>\n",
       "      <td>R</td>\n",
       "    </tr>\n",
       "  </tbody>\n",
       "</table>\n",
       "</div>"
      ],
      "text/plain": [
       "   Time_stamp CAN_ID  DLC                 PAY_LOAD CLASS\n",
       "0  1513921815    165    8  08 E8 7F 00 00 00 01 9E     R\n",
       "1  1513921815   018F    8  00 2B 1F 00 00 3F 00 00     R\n",
       "2  1513921815    260    8  05 1F 00 30 FF 8F 65 17     R\n",
       "3  1513921815   02A0    8  A2 00 69 90 E8 0F 33 03     R\n",
       "4  1513921815   02B0    5           00 00 00 07 61     R"
      ]
     },
     "execution_count": 1,
     "metadata": {},
     "output_type": "execute_result"
    }
   ],
   "source": [
    "import pandas as pd\n",
    "import numpy as np\n",
    "df1=pd.read_csv(\"./Flooding_KIA_Soul_train.csv\")\n",
    "df1.columns=['Time_stamp','CAN_ID','DLC','PAY_LOAD','CLASS']\n",
    "df1.head()"
   ]
  },
  {
   "cell_type": "code",
   "execution_count": 2,
   "id": "e5ebd9b5",
   "metadata": {},
   "outputs": [
    {
     "data": {
      "text/html": [
       "<div>\n",
       "<style scoped>\n",
       "    .dataframe tbody tr th:only-of-type {\n",
       "        vertical-align: middle;\n",
       "    }\n",
       "\n",
       "    .dataframe tbody tr th {\n",
       "        vertical-align: top;\n",
       "    }\n",
       "\n",
       "    .dataframe thead th {\n",
       "        text-align: right;\n",
       "    }\n",
       "</style>\n",
       "<table border=\"1\" class=\"dataframe\">\n",
       "  <thead>\n",
       "    <tr style=\"text-align: right;\">\n",
       "      <th></th>\n",
       "      <th>Time_stamp</th>\n",
       "      <th>CAN_ID</th>\n",
       "      <th>DLC</th>\n",
       "      <th>PAY_LOAD</th>\n",
       "      <th>CLASS</th>\n",
       "    </tr>\n",
       "  </thead>\n",
       "  <tbody>\n",
       "    <tr>\n",
       "      <th>0</th>\n",
       "      <td>1513921815</td>\n",
       "      <td>165</td>\n",
       "      <td>8</td>\n",
       "      <td>08 E8 7F 00 00 00 01 9E</td>\n",
       "      <td>0</td>\n",
       "    </tr>\n",
       "    <tr>\n",
       "      <th>1</th>\n",
       "      <td>1513921815</td>\n",
       "      <td>018F</td>\n",
       "      <td>8</td>\n",
       "      <td>00 2B 1F 00 00 3F 00 00</td>\n",
       "      <td>0</td>\n",
       "    </tr>\n",
       "    <tr>\n",
       "      <th>2</th>\n",
       "      <td>1513921815</td>\n",
       "      <td>260</td>\n",
       "      <td>8</td>\n",
       "      <td>05 1F 00 30 FF 8F 65 17</td>\n",
       "      <td>0</td>\n",
       "    </tr>\n",
       "    <tr>\n",
       "      <th>3</th>\n",
       "      <td>1513921815</td>\n",
       "      <td>02A0</td>\n",
       "      <td>8</td>\n",
       "      <td>A2 00 69 90 E8 0F 33 03</td>\n",
       "      <td>0</td>\n",
       "    </tr>\n",
       "    <tr>\n",
       "      <th>4</th>\n",
       "      <td>1513921815</td>\n",
       "      <td>02B0</td>\n",
       "      <td>5</td>\n",
       "      <td>00 00 00 07 61</td>\n",
       "      <td>0</td>\n",
       "    </tr>\n",
       "    <tr>\n",
       "      <th>...</th>\n",
       "      <td>...</td>\n",
       "      <td>...</td>\n",
       "      <td>...</td>\n",
       "      <td>...</td>\n",
       "      <td>...</td>\n",
       "    </tr>\n",
       "    <tr>\n",
       "      <th>119994</th>\n",
       "      <td>1513921865</td>\n",
       "      <td>80</td>\n",
       "      <td>8</td>\n",
       "      <td>00 17 9A 09 21 17 21 86</td>\n",
       "      <td>0</td>\n",
       "    </tr>\n",
       "    <tr>\n",
       "      <th>119995</th>\n",
       "      <td>1513921865</td>\n",
       "      <td>81</td>\n",
       "      <td>8</td>\n",
       "      <td>7F 84 69 00 00 00 00 96</td>\n",
       "      <td>0</td>\n",
       "    </tr>\n",
       "    <tr>\n",
       "      <th>119996</th>\n",
       "      <td>1513921865</td>\n",
       "      <td>018F</td>\n",
       "      <td>8</td>\n",
       "      <td>00 2B 21 00 00 3F 00 00</td>\n",
       "      <td>0</td>\n",
       "    </tr>\n",
       "    <tr>\n",
       "      <th>119997</th>\n",
       "      <td>1513921865</td>\n",
       "      <td>260</td>\n",
       "      <td>8</td>\n",
       "      <td>05 21 00 30 FF 8F 6D 2B</td>\n",
       "      <td>0</td>\n",
       "    </tr>\n",
       "    <tr>\n",
       "      <th>119998</th>\n",
       "      <td>1513921865</td>\n",
       "      <td>165</td>\n",
       "      <td>8</td>\n",
       "      <td>08 F8 7F 00 00 00 0E 81</td>\n",
       "      <td>0</td>\n",
       "    </tr>\n",
       "  </tbody>\n",
       "</table>\n",
       "<p>119999 rows × 5 columns</p>\n",
       "</div>"
      ],
      "text/plain": [
       "        Time_stamp CAN_ID  DLC                 PAY_LOAD  CLASS\n",
       "0       1513921815    165    8  08 E8 7F 00 00 00 01 9E      0\n",
       "1       1513921815   018F    8  00 2B 1F 00 00 3F 00 00      0\n",
       "2       1513921815    260    8  05 1F 00 30 FF 8F 65 17      0\n",
       "3       1513921815   02A0    8  A2 00 69 90 E8 0F 33 03      0\n",
       "4       1513921815   02B0    5           00 00 00 07 61      0\n",
       "...            ...    ...  ...                      ...    ...\n",
       "119994  1513921865     80    8  00 17 9A 09 21 17 21 86      0\n",
       "119995  1513921865     81    8  7F 84 69 00 00 00 00 96      0\n",
       "119996  1513921865   018F    8  00 2B 21 00 00 3F 00 00      0\n",
       "119997  1513921865    260    8  05 21 00 30 FF 8F 6D 2B      0\n",
       "119998  1513921865    165    8  08 F8 7F 00 00 00 0E 81      0\n",
       "\n",
       "[119999 rows x 5 columns]"
      ]
     },
     "execution_count": 2,
     "metadata": {},
     "output_type": "execute_result"
    }
   ],
   "source": [
    "df1=df1.replace('R',0)\n",
    "df1=df1.replace('T',1)\n",
    "df1"
   ]
  },
  {
   "cell_type": "code",
   "execution_count": 3,
   "id": "5e366ab4",
   "metadata": {},
   "outputs": [
    {
     "data": {
      "text/html": [
       "<div>\n",
       "<style scoped>\n",
       "    .dataframe tbody tr th:only-of-type {\n",
       "        vertical-align: middle;\n",
       "    }\n",
       "\n",
       "    .dataframe tbody tr th {\n",
       "        vertical-align: top;\n",
       "    }\n",
       "\n",
       "    .dataframe thead th {\n",
       "        text-align: right;\n",
       "    }\n",
       "</style>\n",
       "<table border=\"1\" class=\"dataframe\">\n",
       "  <thead>\n",
       "    <tr style=\"text-align: right;\">\n",
       "      <th></th>\n",
       "      <th>Time_stamp</th>\n",
       "      <th>CAN_ID</th>\n",
       "      <th>DLC</th>\n",
       "      <th>PAY_LOAD</th>\n",
       "      <th>CLASS</th>\n",
       "    </tr>\n",
       "  </thead>\n",
       "  <tbody>\n",
       "    <tr>\n",
       "      <th>0</th>\n",
       "      <td>1.513920e+09</td>\n",
       "      <td>02A0</td>\n",
       "      <td>8</td>\n",
       "      <td>02 00 4E 9C F0 0F 33 03</td>\n",
       "      <td>R</td>\n",
       "    </tr>\n",
       "    <tr>\n",
       "      <th>1</th>\n",
       "      <td>1.513920e+09</td>\n",
       "      <td>0329</td>\n",
       "      <td>8</td>\n",
       "      <td>84 8F 82 8C 11 30 00 10</td>\n",
       "      <td>R</td>\n",
       "    </tr>\n",
       "    <tr>\n",
       "      <th>2</th>\n",
       "      <td>1.513920e+09</td>\n",
       "      <td>0545</td>\n",
       "      <td>8</td>\n",
       "      <td>D8 18 00 8D F1 FF F4 FF</td>\n",
       "      <td>R</td>\n",
       "    </tr>\n",
       "    <tr>\n",
       "      <th>3</th>\n",
       "      <td>1.513920e+09</td>\n",
       "      <td>043F</td>\n",
       "      <td>8</td>\n",
       "      <td>10 50 60 FF 51 34 0D 00</td>\n",
       "      <td>R</td>\n",
       "    </tr>\n",
       "    <tr>\n",
       "      <th>4</th>\n",
       "      <td>1.513920e+09</td>\n",
       "      <td>0370</td>\n",
       "      <td>8</td>\n",
       "      <td>FF 20 00 80 FF 00 00 28</td>\n",
       "      <td>R</td>\n",
       "    </tr>\n",
       "  </tbody>\n",
       "</table>\n",
       "</div>"
      ],
      "text/plain": [
       "     Time_stamp CAN_ID  DLC                 PAY_LOAD CLASS\n",
       "0  1.513920e+09   02A0    8  02 00 4E 9C F0 0F 33 03     R\n",
       "1  1.513920e+09   0329    8  84 8F 82 8C 11 30 00 10     R\n",
       "2  1.513920e+09   0545    8  D8 18 00 8D F1 FF F4 FF     R\n",
       "3  1.513920e+09   043F    8  10 50 60 FF 51 34 0D 00     R\n",
       "4  1.513920e+09   0370    8  FF 20 00 80 FF 00 00 28     R"
      ]
     },
     "execution_count": 3,
     "metadata": {},
     "output_type": "execute_result"
    }
   ],
   "source": [
    "df2=pd.read_csv(\"./Fuzzy_KIA_Soul_train.csv\")\n",
    "df2.columns=['Time_stamp','CAN_ID','DLC','PAY_LOAD','CLASS']\n",
    "df2.head()"
   ]
  },
  {
   "cell_type": "code",
   "execution_count": 4,
   "id": "9c28ec90",
   "metadata": {},
   "outputs": [
    {
     "data": {
      "text/html": [
       "<div>\n",
       "<style scoped>\n",
       "    .dataframe tbody tr th:only-of-type {\n",
       "        vertical-align: middle;\n",
       "    }\n",
       "\n",
       "    .dataframe tbody tr th {\n",
       "        vertical-align: top;\n",
       "    }\n",
       "\n",
       "    .dataframe thead th {\n",
       "        text-align: right;\n",
       "    }\n",
       "</style>\n",
       "<table border=\"1\" class=\"dataframe\">\n",
       "  <thead>\n",
       "    <tr style=\"text-align: right;\">\n",
       "      <th></th>\n",
       "      <th>Time_stamp</th>\n",
       "      <th>CAN_ID</th>\n",
       "      <th>DLC</th>\n",
       "      <th>PAY_LOAD</th>\n",
       "      <th>CLASS</th>\n",
       "    </tr>\n",
       "  </thead>\n",
       "  <tbody>\n",
       "    <tr>\n",
       "      <th>0</th>\n",
       "      <td>1.513920e+09</td>\n",
       "      <td>02A0</td>\n",
       "      <td>8</td>\n",
       "      <td>02 00 4E 9C F0 0F 33 03</td>\n",
       "      <td>0</td>\n",
       "    </tr>\n",
       "    <tr>\n",
       "      <th>1</th>\n",
       "      <td>1.513920e+09</td>\n",
       "      <td>0329</td>\n",
       "      <td>8</td>\n",
       "      <td>84 8F 82 8C 11 30 00 10</td>\n",
       "      <td>0</td>\n",
       "    </tr>\n",
       "    <tr>\n",
       "      <th>2</th>\n",
       "      <td>1.513920e+09</td>\n",
       "      <td>0545</td>\n",
       "      <td>8</td>\n",
       "      <td>D8 18 00 8D F1 FF F4 FF</td>\n",
       "      <td>0</td>\n",
       "    </tr>\n",
       "    <tr>\n",
       "      <th>3</th>\n",
       "      <td>1.513920e+09</td>\n",
       "      <td>043F</td>\n",
       "      <td>8</td>\n",
       "      <td>10 50 60 FF 51 34 0D 00</td>\n",
       "      <td>0</td>\n",
       "    </tr>\n",
       "    <tr>\n",
       "      <th>4</th>\n",
       "      <td>1.513920e+09</td>\n",
       "      <td>0370</td>\n",
       "      <td>8</td>\n",
       "      <td>FF 20 00 80 FF 00 00 28</td>\n",
       "      <td>0</td>\n",
       "    </tr>\n",
       "    <tr>\n",
       "      <th>...</th>\n",
       "      <td>...</td>\n",
       "      <td>...</td>\n",
       "      <td>...</td>\n",
       "      <td>...</td>\n",
       "      <td>...</td>\n",
       "    </tr>\n",
       "    <tr>\n",
       "      <th>143994</th>\n",
       "      <td>1.513920e+09</td>\n",
       "      <td>0329</td>\n",
       "      <td>8</td>\n",
       "      <td>0F 92 82 8C 11 30 00 10</td>\n",
       "      <td>0</td>\n",
       "    </tr>\n",
       "    <tr>\n",
       "      <th>143995</th>\n",
       "      <td>1.513920e+09</td>\n",
       "      <td>0545</td>\n",
       "      <td>8</td>\n",
       "      <td>D8 18 00 8D 0A 00 0D 00</td>\n",
       "      <td>0</td>\n",
       "    </tr>\n",
       "    <tr>\n",
       "      <th>143996</th>\n",
       "      <td>1.513920e+09</td>\n",
       "      <td>0153</td>\n",
       "      <td>8</td>\n",
       "      <td>00 80 10 FF 00 FF 20 AE</td>\n",
       "      <td>0</td>\n",
       "    </tr>\n",
       "    <tr>\n",
       "      <th>143997</th>\n",
       "      <td>1.513920e+09</td>\n",
       "      <td>01F1</td>\n",
       "      <td>8</td>\n",
       "      <td>00 00 00 00 00 00 00 00</td>\n",
       "      <td>0</td>\n",
       "    </tr>\n",
       "    <tr>\n",
       "      <th>143998</th>\n",
       "      <td>1.513920e+09</td>\n",
       "      <td>0220</td>\n",
       "      <td>8</td>\n",
       "      <td>EB 03 00 04 09 00 42 10</td>\n",
       "      <td>0</td>\n",
       "    </tr>\n",
       "  </tbody>\n",
       "</table>\n",
       "<p>143999 rows × 5 columns</p>\n",
       "</div>"
      ],
      "text/plain": [
       "          Time_stamp CAN_ID  DLC                 PAY_LOAD  CLASS\n",
       "0       1.513920e+09   02A0    8  02 00 4E 9C F0 0F 33 03      0\n",
       "1       1.513920e+09   0329    8  84 8F 82 8C 11 30 00 10      0\n",
       "2       1.513920e+09   0545    8  D8 18 00 8D F1 FF F4 FF      0\n",
       "3       1.513920e+09   043F    8  10 50 60 FF 51 34 0D 00      0\n",
       "4       1.513920e+09   0370    8  FF 20 00 80 FF 00 00 28      0\n",
       "...              ...    ...  ...                      ...    ...\n",
       "143994  1.513920e+09   0329    8  0F 92 82 8C 11 30 00 10      0\n",
       "143995  1.513920e+09   0545    8  D8 18 00 8D 0A 00 0D 00      0\n",
       "143996  1.513920e+09   0153    8  00 80 10 FF 00 FF 20 AE      0\n",
       "143997  1.513920e+09   01F1    8  00 00 00 00 00 00 00 00      0\n",
       "143998  1.513920e+09   0220    8  EB 03 00 04 09 00 42 10      0\n",
       "\n",
       "[143999 rows x 5 columns]"
      ]
     },
     "execution_count": 4,
     "metadata": {},
     "output_type": "execute_result"
    }
   ],
   "source": [
    "df2=df2.replace('R',0)\n",
    "df2=df2.replace('T',2)\n",
    "df2"
   ]
  },
  {
   "cell_type": "code",
   "execution_count": 5,
   "id": "cedf9823",
   "metadata": {},
   "outputs": [
    {
     "data": {
      "text/html": [
       "<div>\n",
       "<style scoped>\n",
       "    .dataframe tbody tr th:only-of-type {\n",
       "        vertical-align: middle;\n",
       "    }\n",
       "\n",
       "    .dataframe tbody tr th {\n",
       "        vertical-align: top;\n",
       "    }\n",
       "\n",
       "    .dataframe thead th {\n",
       "        text-align: right;\n",
       "    }\n",
       "</style>\n",
       "<table border=\"1\" class=\"dataframe\">\n",
       "  <thead>\n",
       "    <tr style=\"text-align: right;\">\n",
       "      <th></th>\n",
       "      <th>Time_stamp</th>\n",
       "      <th>CAN_ID</th>\n",
       "      <th>DLC</th>\n",
       "      <th>PAY_LOAD</th>\n",
       "      <th>CLASS</th>\n",
       "    </tr>\n",
       "  </thead>\n",
       "  <tbody>\n",
       "    <tr>\n",
       "      <th>0</th>\n",
       "      <td>1.513920e+09</td>\n",
       "      <td>018F</td>\n",
       "      <td>8</td>\n",
       "      <td>00 50 1C 00 00 3F 00 00</td>\n",
       "      <td>R</td>\n",
       "    </tr>\n",
       "    <tr>\n",
       "      <th>1</th>\n",
       "      <td>1.513920e+09</td>\n",
       "      <td>0080</td>\n",
       "      <td>8</td>\n",
       "      <td>00 17 9A 09 1C 17 1C 73</td>\n",
       "      <td>R</td>\n",
       "    </tr>\n",
       "    <tr>\n",
       "      <th>2</th>\n",
       "      <td>1.513920e+09</td>\n",
       "      <td>0081</td>\n",
       "      <td>8</td>\n",
       "      <td>40 84 93 00 00 00 00 13</td>\n",
       "      <td>R</td>\n",
       "    </tr>\n",
       "    <tr>\n",
       "      <th>3</th>\n",
       "      <td>1.513920e+09</td>\n",
       "      <td>0260</td>\n",
       "      <td>8</td>\n",
       "      <td>05 1C 00 30 00 89 65 3C</td>\n",
       "      <td>R</td>\n",
       "    </tr>\n",
       "    <tr>\n",
       "      <th>4</th>\n",
       "      <td>1.513920e+09</td>\n",
       "      <td>0153</td>\n",
       "      <td>8</td>\n",
       "      <td>00 80 10 FF 00 FF 50 DE</td>\n",
       "      <td>R</td>\n",
       "    </tr>\n",
       "  </tbody>\n",
       "</table>\n",
       "</div>"
      ],
      "text/plain": [
       "     Time_stamp CAN_ID  DLC                 PAY_LOAD CLASS\n",
       "0  1.513920e+09   018F    8  00 50 1C 00 00 3F 00 00     R\n",
       "1  1.513920e+09   0080    8  00 17 9A 09 1C 17 1C 73     R\n",
       "2  1.513920e+09   0081    8  40 84 93 00 00 00 00 13     R\n",
       "3  1.513920e+09   0260    8  05 1C 00 30 00 89 65 3C     R\n",
       "4  1.513920e+09   0153    8  00 80 10 FF 00 FF 50 DE     R"
      ]
     },
     "execution_count": 5,
     "metadata": {},
     "output_type": "execute_result"
    }
   ],
   "source": [
    "df3=pd.read_csv(\"./Malfunction_KIA_Soul_train.csv\")\n",
    "df3.columns=['Time_stamp','CAN_ID','DLC','PAY_LOAD','CLASS']\n",
    "df3.head()"
   ]
  },
  {
   "cell_type": "code",
   "execution_count": 6,
   "id": "afb14ad3",
   "metadata": {},
   "outputs": [
    {
     "data": {
      "text/html": [
       "<div>\n",
       "<style scoped>\n",
       "    .dataframe tbody tr th:only-of-type {\n",
       "        vertical-align: middle;\n",
       "    }\n",
       "\n",
       "    .dataframe tbody tr th {\n",
       "        vertical-align: top;\n",
       "    }\n",
       "\n",
       "    .dataframe thead th {\n",
       "        text-align: right;\n",
       "    }\n",
       "</style>\n",
       "<table border=\"1\" class=\"dataframe\">\n",
       "  <thead>\n",
       "    <tr style=\"text-align: right;\">\n",
       "      <th></th>\n",
       "      <th>Time_stamp</th>\n",
       "      <th>CAN_ID</th>\n",
       "      <th>DLC</th>\n",
       "      <th>PAY_LOAD</th>\n",
       "      <th>CLASS</th>\n",
       "    </tr>\n",
       "  </thead>\n",
       "  <tbody>\n",
       "    <tr>\n",
       "      <th>0</th>\n",
       "      <td>1.513920e+09</td>\n",
       "      <td>018F</td>\n",
       "      <td>8</td>\n",
       "      <td>00 50 1C 00 00 3F 00 00</td>\n",
       "      <td>0</td>\n",
       "    </tr>\n",
       "    <tr>\n",
       "      <th>1</th>\n",
       "      <td>1.513920e+09</td>\n",
       "      <td>0080</td>\n",
       "      <td>8</td>\n",
       "      <td>00 17 9A 09 1C 17 1C 73</td>\n",
       "      <td>0</td>\n",
       "    </tr>\n",
       "    <tr>\n",
       "      <th>2</th>\n",
       "      <td>1.513920e+09</td>\n",
       "      <td>0081</td>\n",
       "      <td>8</td>\n",
       "      <td>40 84 93 00 00 00 00 13</td>\n",
       "      <td>0</td>\n",
       "    </tr>\n",
       "    <tr>\n",
       "      <th>3</th>\n",
       "      <td>1.513920e+09</td>\n",
       "      <td>0260</td>\n",
       "      <td>8</td>\n",
       "      <td>05 1C 00 30 00 89 65 3C</td>\n",
       "      <td>0</td>\n",
       "    </tr>\n",
       "    <tr>\n",
       "      <th>4</th>\n",
       "      <td>1.513920e+09</td>\n",
       "      <td>0153</td>\n",
       "      <td>8</td>\n",
       "      <td>00 80 10 FF 00 FF 50 DE</td>\n",
       "      <td>0</td>\n",
       "    </tr>\n",
       "    <tr>\n",
       "      <th>...</th>\n",
       "      <td>...</td>\n",
       "      <td>...</td>\n",
       "      <td>...</td>\n",
       "      <td>...</td>\n",
       "      <td>...</td>\n",
       "    </tr>\n",
       "    <tr>\n",
       "      <th>112994</th>\n",
       "      <td>1.513920e+09</td>\n",
       "      <td>0080</td>\n",
       "      <td>8</td>\n",
       "      <td>00 17 D8 09 20 18 20 A3</td>\n",
       "      <td>0</td>\n",
       "    </tr>\n",
       "    <tr>\n",
       "      <th>112995</th>\n",
       "      <td>1.513920e+09</td>\n",
       "      <td>0081</td>\n",
       "      <td>8</td>\n",
       "      <td>40 84 93 00 00 00 00 13</td>\n",
       "      <td>0</td>\n",
       "    </tr>\n",
       "    <tr>\n",
       "      <th>112996</th>\n",
       "      <td>1.513920e+09</td>\n",
       "      <td>018F</td>\n",
       "      <td>8</td>\n",
       "      <td>00 47 20 00 00 3F 00 00</td>\n",
       "      <td>0</td>\n",
       "    </tr>\n",
       "    <tr>\n",
       "      <th>112997</th>\n",
       "      <td>1.513920e+09</td>\n",
       "      <td>0329</td>\n",
       "      <td>8</td>\n",
       "      <td>0F BF 81 8C 11 2F 00 10</td>\n",
       "      <td>0</td>\n",
       "    </tr>\n",
       "    <tr>\n",
       "      <th>112998</th>\n",
       "      <td>1.513920e+09</td>\n",
       "      <td>0382</td>\n",
       "      <td>8</td>\n",
       "      <td>40 FE 0F 00 00 00 00 08</td>\n",
       "      <td>0</td>\n",
       "    </tr>\n",
       "  </tbody>\n",
       "</table>\n",
       "<p>112999 rows × 5 columns</p>\n",
       "</div>"
      ],
      "text/plain": [
       "          Time_stamp CAN_ID  DLC                 PAY_LOAD  CLASS\n",
       "0       1.513920e+09   018F    8  00 50 1C 00 00 3F 00 00      0\n",
       "1       1.513920e+09   0080    8  00 17 9A 09 1C 17 1C 73      0\n",
       "2       1.513920e+09   0081    8  40 84 93 00 00 00 00 13      0\n",
       "3       1.513920e+09   0260    8  05 1C 00 30 00 89 65 3C      0\n",
       "4       1.513920e+09   0153    8  00 80 10 FF 00 FF 50 DE      0\n",
       "...              ...    ...  ...                      ...    ...\n",
       "112994  1.513920e+09   0080    8  00 17 D8 09 20 18 20 A3      0\n",
       "112995  1.513920e+09   0081    8  40 84 93 00 00 00 00 13      0\n",
       "112996  1.513920e+09   018F    8  00 47 20 00 00 3F 00 00      0\n",
       "112997  1.513920e+09   0329    8  0F BF 81 8C 11 2F 00 10      0\n",
       "112998  1.513920e+09   0382    8  40 FE 0F 00 00 00 00 08      0\n",
       "\n",
       "[112999 rows x 5 columns]"
      ]
     },
     "execution_count": 6,
     "metadata": {},
     "output_type": "execute_result"
    }
   ],
   "source": [
    "df3=df3.replace('R',0)\n",
    "df3=df3.replace('T',3)\n",
    "df3"
   ]
  },
  {
   "cell_type": "code",
   "execution_count": 7,
   "id": "3448a572",
   "metadata": {},
   "outputs": [],
   "source": [
    "x1=df1['PAY_LOAD'].unique()\n",
    "y1=[i for i in range(len(x1))]\n",
    "y1=np.array(y1)\n",
    "np.shape(y1)\n",
    "df1['PAY_LOAD']=df1['PAY_LOAD'].replace(np.array(df1['PAY_LOAD'].unique()),y1)"
   ]
  },
  {
   "cell_type": "code",
   "execution_count": 8,
   "id": "9ca52e0d",
   "metadata": {},
   "outputs": [],
   "source": [
    "x2=df2['PAY_LOAD'].unique()\n",
    "y2=[i for i in range(len(x2))]\n",
    "y2=np.array(y2)\n",
    "np.shape(y2)\n",
    "df2['PAY_LOAD']=df2['PAY_LOAD'].replace(np.array(df2['PAY_LOAD'].unique()),y2)"
   ]
  },
  {
   "cell_type": "code",
   "execution_count": 9,
   "id": "7872ff82",
   "metadata": {},
   "outputs": [],
   "source": [
    "x3=df3['PAY_LOAD'].unique()\n",
    "y3=[i for i in range(len(x3))]\n",
    "\n",
    "y3=np.array(y3)\n",
    "np.shape(y3)\n",
    "df3['PAY_LOAD']=df3['PAY_LOAD'].replace(np.array(df3['PAY_LOAD'].unique()),y3)"
   ]
  },
  {
   "cell_type": "code",
   "execution_count": 10,
   "id": "2cb2511b",
   "metadata": {},
   "outputs": [],
   "source": [
    "a1=df1['CAN_ID'].unique()\n",
    "b1=[i for i in range(len(a1))]\n",
    "df1['CAN_ID']=df1['CAN_ID'].replace(np.array(df1['CAN_ID'].unique()),b1)"
   ]
  },
  {
   "cell_type": "code",
   "execution_count": 11,
   "id": "7a16f42e",
   "metadata": {},
   "outputs": [],
   "source": [
    "a2=df2['CAN_ID'].unique()\n",
    "b2=[i for i in range(len(a2))]\n",
    "df2['CAN_ID']=df2['CAN_ID'].replace(np.array(df2['CAN_ID'].unique()),b2)"
   ]
  },
  {
   "cell_type": "code",
   "execution_count": 12,
   "id": "80b44710",
   "metadata": {},
   "outputs": [],
   "source": [
    "a3=df3['CAN_ID'].unique()\n",
    "b3=[i for i in range(len(a3))]\n",
    "df3['CAN_ID']=df3['CAN_ID'].replace(np.array(df3['CAN_ID'].unique()),b3)"
   ]
  },
  {
   "cell_type": "code",
   "execution_count": 13,
   "id": "fcc12524",
   "metadata": {},
   "outputs": [],
   "source": [
    "df = pd.concat( [df1, df2,df3],axis=0,ignore_index=True)\n",
    "x=df[df.columns[0:4]]\n",
    "df=df.dropna(axis=0)\n",
    "x = x.astype(str)\n",
    "y=df['CLASS']"
   ]
  },
  {
   "cell_type": "code",
   "execution_count": 14,
   "id": "5de2748c",
   "metadata": {},
   "outputs": [],
   "source": [
    "from sklearn.model_selection import train_test_split\n",
    "x_train, x_test, y_train, y_test = train_test_split(x, y, test_size=round(len(x)*0.33), random_state=1)"
   ]
  },
  {
   "cell_type": "code",
   "execution_count": 15,
   "id": "817da282",
   "metadata": {},
   "outputs": [],
   "source": [
    "from sklearn import datasets\n",
    "from sklearn.tree import DecisionTreeClassifier\n",
    "from sklearn import metrics"
   ]
  },
  {
   "cell_type": "code",
   "execution_count": 16,
   "id": "ac143fee",
   "metadata": {},
   "outputs": [
    {
     "data": {
      "text/plain": [
       "DecisionTreeClassifier()"
      ]
     },
     "execution_count": 16,
     "metadata": {},
     "output_type": "execute_result"
    }
   ],
   "source": [
    "dt=DecisionTreeClassifier() \n",
    "dt.fit(x_train,y_train)"
   ]
  },
  {
   "cell_type": "code",
   "execution_count": 17,
   "id": "e17a002b",
   "metadata": {},
   "outputs": [],
   "source": [
    "import pickle\n",
    " \n",
    "# Save the trained model as a pickle string.\n",
    "pkl_filename = \"Pickle_model_DT.pkl\"\n",
    "with open(pkl_filename, 'wb') as file:\n",
    "    pickle.dump(dt, file)"
   ]
  },
  {
   "cell_type": "code",
   "execution_count": 18,
   "id": "346f9074",
   "metadata": {},
   "outputs": [],
   "source": [
    "y_pred=dt.predict(x_test)"
   ]
  },
  {
   "cell_type": "code",
   "execution_count": 19,
   "id": "21aa7b20",
   "metadata": {},
   "outputs": [
    {
     "name": "stdout",
     "output_type": "stream",
     "text": [
      "Accuracy: 99.90997435876827\n"
     ]
    }
   ],
   "source": [
    "dt_acc=metrics.accuracy_score(y_test, y_pred)*100\n",
    "print(\"Accuracy:\",dt_acc)"
   ]
  },
  {
   "cell_type": "code",
   "execution_count": 20,
   "id": "9ee2a375",
   "metadata": {},
   "outputs": [
    {
     "name": "stdout",
     "output_type": "stream",
     "text": [
      "[1]\n"
     ]
    },
    {
     "name": "stderr",
     "output_type": "stream",
     "text": [
      "C:\\Users\\Hamza\\New folder\\lib\\site-packages\\sklearn\\base.py:450: UserWarning: X does not have valid feature names, but DecisionTreeClassifier was fitted with feature names\n",
      "  warnings.warn(\n"
     ]
    }
   ],
   "source": [
    "Pred=dt.predict([[1513921852,45,8,9]])\n",
    "print(Pred)"
   ]
  },
  {
   "cell_type": "code",
   "execution_count": 21,
   "id": "289a39d1",
   "metadata": {},
   "outputs": [
    {
     "data": {
      "image/png": "[encoded data removed]",
      "text/plain": [
       "<Figure size 640x480 with 2 Axes>"
      ]
     },
     "metadata": {},
     "output_type": "display_data"
    }
   ],
   "source": [
    "from sklearn.metrics import accuracy_score, confusion_matrix, precision_score, recall_score, f1_score, roc_auc_score\n",
    "import seaborn as sns\n",
    "import matplotlib.pyplot as plt\n",
    "confusion_matrix = pd.crosstab(y_test, y_pred, rownames=['Actual'], colnames=['Predicted'])\n",
    "sns.heatmap(confusion_matrix, annot=True)\n",
    "plt.savefig('dt.jpg')"
   ]
  },
  {
   "cell_type": "code",
   "execution_count": 22,
   "id": "83369eea",
   "metadata": {},
   "outputs": [],
   "source": [
    "from sklearn import datasets\n",
    "from sklearn.svm import SVC\n",
    "from sklearn import metrics"
   ]
  },
  {
   "cell_type": "code",
   "execution_count": 23,
   "id": "eca033dd",
   "metadata": {},
   "outputs": [
    {
     "data": {
      "text/plain": [
       "SVC()"
      ]
     },
     "execution_count": 23,
     "metadata": {},
     "output_type": "execute_result"
    }
   ],
   "source": [
    "sv=SVC() \n",
    "sv.fit(x_train,y_train)"
   ]
  },
  {
   "cell_type": "code",
   "execution_count": 24,
   "id": "66865bae",
   "metadata": {},
   "outputs": [],
   "source": [
    "import pickle\n",
    " \n",
    "# Save the trained model as a pickle string.\n",
    "pkl_filename = \"Pickle_model_SVM.pkl\"\n",
    "with open(pkl_filename, 'wb') as file:\n",
    "    pickle.dump(sv, file)"
   ]
  },
  {
   "cell_type": "code",
   "execution_count": 25,
   "id": "e51aca30",
   "metadata": {},
   "outputs": [
    {
     "name": "stdout",
     "output_type": "stream",
     "text": [
      "               Time_stamp CAN_ID DLC PAY_LOAD\n",
      "341898  1513920248.302943     18   8      442\n",
      "183356  1513920194.121178     20   8       82\n",
      "269668  1513920214.410434      5   8      988\n",
      "82492        1513921852.0     45   8        9\n",
      "102562       1513921860.0     21   8     4411\n",
      "...                   ...    ...  ..      ...\n",
      "73349        1513921850.0     16   8      750\n",
      "371403  1513920261.254467     30   8      346\n",
      "312201  1513920234.751149      4   8     5756\n",
      "267336  1513920213.296881     22   8       15\n",
      "128037  1513920171.008082      9   8      435\n",
      "\n",
      "[252588 rows x 4 columns]\n"
     ]
    }
   ],
   "source": [
    "print(x_train)\n",
    "y_pred=sv.predict(x_test)"
   ]
  },
  {
   "cell_type": "code",
   "execution_count": 26,
   "id": "1bd4c4a8",
   "metadata": {},
   "outputs": [
    {
     "name": "stdout",
     "output_type": "stream",
     "text": [
      "Accuracy: 88.87138390309383\n"
     ]
    }
   ],
   "source": [
    "svm_acc=metrics.accuracy_score(y_test, y_pred)*100\n",
    "print(\"Accuracy:\",svm_acc)"
   ]
  },
  {
   "cell_type": "code",
   "execution_count": 27,
   "id": "af7ca2e7",
   "metadata": {},
   "outputs": [
    {
     "name": "stdout",
     "output_type": "stream",
     "text": [
      "[0]\n"
     ]
    },
    {
     "name": "stderr",
     "output_type": "stream",
     "text": [
      "C:\\Users\\Hamza\\New folder\\lib\\site-packages\\sklearn\\base.py:450: UserWarning: X does not have valid feature names, but SVC was fitted with feature names\n",
      "  warnings.warn(\n"
     ]
    }
   ],
   "source": [
    "Pred=sv.predict([[1513921852,45,8,9]])\n",
    "print(Pred)"
   ]
  },
  {
   "cell_type": "code",
   "execution_count": 28,
   "id": "840b01c3",
   "metadata": {},
   "outputs": [
    {
     "data": {
      "image/png": "[encoded data removed]",
      "text/plain": [
       "<Figure size 640x480 with 2 Axes>"
      ]
     },
     "metadata": {},
     "output_type": "display_data"
    }
   ],
   "source": [
    "from sklearn.metrics import accuracy_score, confusion_matrix, precision_score, recall_score, f1_score, roc_auc_score\n",
    "import seaborn as sns\n",
    "confusion_matrix = pd.crosstab(y_test, y_pred, rownames=['Actual'], colnames=['Predicted'])\n",
    "sns.heatmap(confusion_matrix, annot=True)\n",
    "plt.savefig('svmplot.jpg')"
   ]
  },
  {
   "cell_type": "code",
   "execution_count": 29,
   "id": "1ba7a193",
   "metadata": {},
   "outputs": [],
   "source": [
    "from sklearn import datasets\n",
    "from sklearn.neighbors import KNeighborsClassifier\n",
    "from sklearn import metrics"
   ]
  },
  {
   "cell_type": "code",
   "execution_count": 30,
   "id": "deb2de30",
   "metadata": {},
   "outputs": [
    {
     "data": {
      "text/plain": [
       "KNeighborsClassifier()"
      ]
     },
     "execution_count": 30,
     "metadata": {},
     "output_type": "execute_result"
    }
   ],
   "source": [
    "knn=KNeighborsClassifier()\n",
    "knn.fit(x_train,y_train)"
   ]
  },
  {
   "cell_type": "code",
   "execution_count": 31,
   "id": "1295b0a2",
   "metadata": {},
   "outputs": [],
   "source": [
    "import pickle\n",
    " \n",
    "# Save the trained model as a pickle string.\n",
    "pkl_filename = \"Pickle_model_knn.pkl\"\n",
    "with open(pkl_filename, 'wb') as file:\n",
    "    pickle.dump(knn, file)"
   ]
  },
  {
   "cell_type": "code",
   "execution_count": 32,
   "id": "d34f2981",
   "metadata": {},
   "outputs": [
    {
     "name": "stderr",
     "output_type": "stream",
     "text": [
      "C:\\Users\\Hamza\\New folder\\lib\\site-packages\\sklearn\\neighbors\\_classification.py:228: FutureWarning: Unlike other reduction functions (e.g. `skew`, `kurtosis`), the default behavior of `mode` typically preserves the axis it acts along. In SciPy 1.11.0, this behavior will change: the default value of `keepdims` will become False, the `axis` over which the statistic is taken will be eliminated, and the value None will no longer be accepted. Set `keepdims` to True or False to avoid this warning.\n",
      "  mode, _ = stats.mode(_y[neigh_ind, k], axis=1)\n"
     ]
    }
   ],
   "source": [
    "\n",
    "y_pred=knn.predict(x_test)    "
   ]
  },
  {
   "cell_type": "code",
   "execution_count": 33,
   "id": "09954cb4",
   "metadata": {},
   "outputs": [
    {
     "name": "stdout",
     "output_type": "stream",
     "text": [
      "[1]\n"
     ]
    },
    {
     "name": "stderr",
     "output_type": "stream",
     "text": [
      "C:\\Users\\Hamza\\New folder\\lib\\site-packages\\sklearn\\base.py:450: UserWarning: X does not have valid feature names, but KNeighborsClassifier was fitted with feature names\n",
      "  warnings.warn(\n",
      "C:\\Users\\Hamza\\New folder\\lib\\site-packages\\sklearn\\neighbors\\_classification.py:228: FutureWarning: Unlike other reduction functions (e.g. `skew`, `kurtosis`), the default behavior of `mode` typically preserves the axis it acts along. In SciPy 1.11.0, this behavior will change: the default value of `keepdims` will become False, the `axis` over which the statistic is taken will be eliminated, and the value None will no longer be accepted. Set `keepdims` to True or False to avoid this warning.\n",
      "  mode, _ = stats.mode(_y[neigh_ind, k], axis=1)\n"
     ]
    }
   ],
   "source": [
    "Pred=knn.predict([[1513921852,45,8,9]])\n",
    "print(Pred)"
   ]
  },
  {
   "cell_type": "code",
   "execution_count": 34,
   "id": "3ec7ce0d",
   "metadata": {},
   "outputs": [
    {
     "name": "stdout",
     "output_type": "stream",
     "text": [
      "Accuracy: 88.87138390309383\n"
     ]
    }
   ],
   "source": [
    "knn_acc=metrics.accuracy_score(y_test, y_pred)*100\n",
    "print(\"Accuracy:\",svm_acc)"
   ]
  },
  {
   "cell_type": "code",
   "execution_count": 35,
   "id": "9d3cf983",
   "metadata": {},
   "outputs": [
    {
     "data": {
      "image/png": "[encoded data removed]",
      "text/plain": [
       "<Figure size 640x480 with 2 Axes>"
      ]
     },
     "metadata": {},
     "output_type": "display_data"
    }
   ],
   "source": [
    "from sklearn.metrics import accuracy_score, confusion_matrix, precision_score, recall_score, f1_score, roc_auc_score\n",
    "import seaborn as sns\n",
    "confusion_matrix = pd.crosstab(y_test, y_pred, rownames=['Actual'], colnames=['Predicted'])\n",
    "sns.heatmap(confusion_matrix, annot=True)\n",
    "plt.savefig('knnplot.jpg')"
   ]
  },
  {
   "cell_type": "code",
   "execution_count": 36,
   "id": "bd59f519",
   "metadata": {},
   "outputs": [
    {
     "data": {
      "text/plain": [
       "RandomForestClassifier()"
      ]
     },
     "execution_count": 36,
     "metadata": {},
     "output_type": "execute_result"
    }
   ],
   "source": [
    "from sklearn.ensemble import RandomForestClassifier  \n",
    "rf= RandomForestClassifier() \n",
    "rf.fit(x_train,y_train)"
   ]
  },
  {
   "cell_type": "code",
   "execution_count": 37,
   "id": "f0b280b7",
   "metadata": {},
   "outputs": [],
   "source": [
    "import pickle\n",
    " \n",
    "# Save the trained model as a pickle string.\n",
    "pkl_filename = \"Pickle_model_rf.pkl\"\n",
    "with open(pkl_filename, 'wb') as file:\n",
    "    pickle.dump(rf, file)"
   ]
  },
  {
   "cell_type": "code",
   "execution_count": 38,
   "id": "cf9181a7",
   "metadata": {},
   "outputs": [],
   "source": [
    "y_pred=rf.predict(x_test) "
   ]
  },
  {
   "cell_type": "code",
   "execution_count": 39,
   "id": "aeb978c7",
   "metadata": {},
   "outputs": [
    {
     "name": "stdout",
     "output_type": "stream",
     "text": [
      "Accuracy: 99.91801236244966\n"
     ]
    }
   ],
   "source": [
    "rf_acc=metrics.accuracy_score(y_test, y_pred)*100\n",
    "print(\"Accuracy:\",rf_acc)"
   ]
  },
  {
   "cell_type": "code",
   "execution_count": 40,
   "id": "4fff1c62",
   "metadata": {},
   "outputs": [
    {
     "data": {
      "image/png": "[encoded data removed]",
      "text/plain": [
       "<Figure size 640x480 with 2 Axes>"
      ]
     },
     "metadata": {},
     "output_type": "display_data"
    }
   ],
   "source": [
    "from sklearn.metrics import accuracy_score, confusion_matrix, precision_score, recall_score, f1_score, roc_auc_score\n",
    "import seaborn as sns\n",
    "confusion_matrix = pd.crosstab(y_test, y_pred, rownames=['Actual'], colnames=['Predicted'])\n",
    "sns.heatmap(confusion_matrix, annot=True)\n",
    "plt.savefig('rfplot.jpg')"
   ]
  },
  {
   "cell_type": "code",
   "execution_count": 41,
   "id": "2c9aa6aa",
   "metadata": {},
   "outputs": [
    {
     "name": "stdout",
     "output_type": "stream",
     "text": [
      "[1]\n"
     ]
    },
    {
     "name": "stderr",
     "output_type": "stream",
     "text": [
      "C:\\Users\\Hamza\\New folder\\lib\\site-packages\\sklearn\\base.py:450: UserWarning: X does not have valid feature names, but RandomForestClassifier was fitted with feature names\n",
      "  warnings.warn(\n"
     ]
    }
   ],
   "source": [
    "Pred=rf.predict([[1513921852,45,8,9]])\n",
    "print(Pred)"
   ]
  },
  {
   "cell_type": "code",
   "execution_count": 42,
   "id": "47b85527",
   "metadata": {},
   "outputs": [],
   "source": [
    "\n",
    "if dt_acc >= svm_acc and dt_acc >= knn_acc and dt_acc >= rf_acc:\n",
    "    acc=dt_acc\n",
    "    algorithm='Decission Tree'\n",
    "    images='./dt.jpg'\n",
    "    model=dt\n",
    "elif svm_acc >= dt_acc and svm_acc >= knn_acc and svm_acc >= rf_acc:\n",
    "    acc=svm_acc\n",
    "    algorithm=\"SVM\"\n",
    "    images='./svmplot.jpg'\n",
    "    model=sv\n",
    "elif knn_acc >= dt_acc and knn_acc >= svm_accb and knn_acc >= rf_acc:\n",
    "    acc=knn_acc\n",
    "    images='./knnplot.jpg'\n",
    "    algorithm=\"KNN\"\n",
    "    model=knn\n",
    "else:\n",
    "    acc=rf_acc\n",
    "    images='./rfplot.jpg'\n",
    "    algorithm=\"Random Forest\"\n",
    "    model=rf"
   ]
  },
  {
   "cell_type": "code",
   "execution_count": 53,
   "id": "86b6e8bf",
   "metadata": {},
   "outputs": [],
   "source": [
    "from tkinter import *\n",
    "from PIL import Image,ImageTk\n",
    "r=Tk()\n",
    "r.geometry('1920x1080')\n",
    "r.title('ANOMALY DETECTION')\n",
    "r.config(bg='white')\n",
    "l=Label(r,text=\"ANOMALY DETECTION\", width=80,height=2,font=('bold',30),bg='Black',fg='white')\n",
    "l.place(x=-60,y=0)\n",
    "l1=Label(r,text='Accuracy:',width=20,font=('bold',24),bg='white',fg='green')\n",
    "l1.place(x=500,y=200)\n",
    "l2=Label(r,text=str(algorithm),width=20,font=('bold',24),bg='white',fg='black')\n",
    "l2.place(x=675,y=130)\n",
    "l3=Label(r,text=str(acc),width=18,font=('bold',24),bg='white',fg='green')\n",
    "l3.place(x=760,y=200)\n",
    "img=Image.open(images)\n",
    "img=img.resize((600,600))\n",
    "Photo_images=ImageTk.PhotoImage(img,master=r)\n",
    "l4=Label(r,image=Photo_images)\n",
    "l4.place(x=550,y=300)\n",
    "r.mainloop()"
   ]
  },
  {
   "cell_type": "code",
   "execution_count": null,
   "id": "49ee50fc",
   "metadata": {},
   "outputs": [
    {
     "name": "stdout",
     "output_type": "stream",
     "text": [
      "RandomForestClassifier()\n",
      "<class 'int'> 3\n"
     ]
    },
    {
     "name": "stderr",
     "output_type": "stream",
     "text": [
      "C:\\Users\\Hamza\\New folder\\lib\\site-packages\\sklearn\\base.py:450: UserWarning: X does not have valid feature names, but RandomForestClassifier was fitted with feature names\n",
      "  warnings.warn(\n"
     ]
    }
   ],
   "source": [
    "from tkinter import *\n",
    "from PIL import Image,ImageTk\n",
    "import pickle\n",
    "r=Tk()\n",
    "r.geometry('1920x1080')\n",
    "r.title('ANOMALY DETECTION')\n",
    "r.config(bg='GREY')\n",
    "def result():\n",
    "    E=Id1.get()\n",
    "    \n",
    "    E2=Id2.get()\n",
    "    E3=Id3.get()\n",
    "    E4=Id4.get()\n",
    "    print(model)\n",
    "    res=model.predict([[E,E2,E3,E4]])\n",
    "    res=int(res)\n",
    "    print(type(res),res)\n",
    "    \n",
    "    if res==0:\n",
    "        output='There is no attack'\n",
    "    elif res==1:\n",
    "        output='Flooding Attack '\n",
    "    elif res==2:\n",
    "        output='Fuzzy Attack '\n",
    "    elif res==3:\n",
    "        output='Malfunction Attack'\n",
    "    l5=Label(r,text=output, font=('bold',28),bg='GREY',fg='LIGHT GREEN')\n",
    "    l5.place(x=720,y=700)   \n",
    "l=Label(r,text=\"ANOMALY DETECTION\", width=80,height=2,font=('bold',30),bg='Black',fg='white')\n",
    "l.place(x=-60,y=0)\n",
    "l1=Label(r,text=\"Enter Timestamp :\", font=('bold',20),bg='GREY',fg='LIGHT GREEN')\n",
    "l1.place(x=610,y=250)\n",
    "l2=Label(r,text=\"Enter CAN ID :\", font=('bold',20),bg='GREY',fg='LIGHT GREEN')\n",
    "l2.place(x=610,y=300)\n",
    "l3=Label(r,text=\"Enter DLC :\", font=('bold',20),bg='GREY',fg='LIGHT GREEN')\n",
    "l3.place(x=610,y=350)\n",
    "l4=Label(r,text=\"Enter Payload :\", font=('bold',20),bg='GREY',fg='LIGHT GREEN')\n",
    "l4.place(x=610,y=400)\n",
    "Id1=IntVar()\n",
    "Id2=IntVar()\n",
    "Id3=IntVar()\n",
    "Id4=IntVar()\n",
    "e1=Entry(r,textvariable=Id1, width=50).place(x=860,y=260)\n",
    "e2=Entry(r,textvariable=Id2, width=50).place(x=860,y=310)\n",
    "e3=Entry(r,textvariable=Id3, width=50).place(x=860,y=360)\n",
    "e4=Entry(r,textvariable=Id4, width=50).place(x=860,y=410)\n",
    "btn=Button(r,text=\"Submit\",width=15,font=('bold',20),bg='light green',fg='white',command=result)\n",
    "btn.place(x=750,y=500)\n",
    "r.mainloop()"
   ]
  },
  {
   "cell_type": "code",
   "execution_count": 116,
   "id": "aa140c87",
   "metadata": {},
   "outputs": [
    {
     "name": "stdout",
     "output_type": "stream",
     "text": [
      "               Time_stamp CAN_ID DLC PAY_LOAD\n",
      "341898  1513920248.302943     18   8      442\n",
      "183356  1513920194.121178     20   8       82\n",
      "269668  1513920214.410434      5   8      988\n",
      "82492        1513921852.0     45   8        9\n",
      "102562       1513921860.0     21   8     4411\n",
      "...                   ...    ...  ..      ...\n",
      "73349        1513921850.0     16   8      750\n",
      "371403  1513920261.254467     30   8      346\n",
      "312201  1513920234.751149      4   8     5756\n",
      "267336  1513920213.296881     22   8       15\n",
      "128037  1513920171.008082      9   8      435\n",
      "\n",
      "[252588 rows x 4 columns] 341898    0\n",
      "183356    0\n",
      "269668    0\n",
      "82492     1\n",
      "102562    0\n",
      "         ..\n",
      "73349     0\n",
      "371403    0\n",
      "312201    3\n",
      "267336    0\n",
      "128037    0\n",
      "Name: CLASS, Length: 252588, dtype: int64\n"
     ]
    }
   ],
   "source": [
    "print(x_train,y_train)\n"
   ]
  },
  {
   "cell_type": "code",
   "execution_count": null,
   "id": "d4b9782f",
   "metadata": {},
   "outputs": [],
   "source": []
  },
  {
   "cell_type": "code",
   "execution_count": null,
   "id": "cb53a223",
   "metadata": {},
   "outputs": [],
   "source": []
  }
 ],
 "metadata": {
  "kernelspec": {
   "display_name": "Python 3 (ipykernel)",
   "language": "python",
   "name": "python3"
  },
  "language_info": {
   "codemirror_mode": {
    "name": "ipython",
    "version": 3
   },
   "file_extension": ".py",
   "mimetype": "text/x-python",
   "name": "python",
   "nbconvert_exporter": "python",
   "pygments_lexer": "ipython3",
   "version": "3.9.13"
  }
 },
 "nbformat": 4,
 "nbformat_minor": 5
}
